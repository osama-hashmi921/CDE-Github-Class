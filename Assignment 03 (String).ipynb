{
 "cells": [
  {
   "cell_type": "markdown",
   "id": "7b2c25cc",
   "metadata": {},
   "source": [
    "# String\n",
    "- Name : Muhammad Osama Hashmi"
   ]
  },
  {
   "cell_type": "markdown",
   "id": "cc4b3a7f",
   "metadata": {},
   "source": [
    "1. Write a program that accepts a string from user. Your program should count and display number of vowels in that string. "
   ]
  },
  {
   "cell_type": "code",
   "execution_count": 1,
   "id": "fd730405",
   "metadata": {},
   "outputs": [
    {
     "name": "stdout",
     "output_type": "stream",
     "text": [
      "Enter a string: a program that reads a string from keyboard and disp\n",
      " * * * * * * * * * * *\n",
      "* Number of vowels: 14 *\n",
      " * * * * * * * * * * *"
     ]
    }
   ],
   "source": [
    "s = input(\"Enter a string: \")\n",
    "vowels = \"aeiouAEIOU\"\n",
    "\n",
    "count = 0\n",
    "for char in s:\n",
    "    if char in vowels:\n",
    "        count += 1\n",
    "\n",
    "for i in range(1, len((str(count)).split())+11):\n",
    "\tprint(\" *\", end =\"\")\n",
    "\n",
    "print(f\"\\n* Number of vowels: {count} *\")\n",
    "\n",
    "for i in range(1, len((str(count)).split())+11):\n",
    "\tprint(\" *\", end =\"\")"
   ]
  },
  {
   "cell_type": "markdown",
   "id": "da439564",
   "metadata": {},
   "source": [
    "2. Write a program that reads a string from keyboard and display:\n",
    "* The number of uppercase letters in the string\n",
    "* The number of lowercase letters in the string\n",
    "* The number of digits in the string\n",
    "* The number of whitespace characters in the string"
   ]
  },
  {
   "cell_type": "code",
   "execution_count": 2,
   "id": "6e633d45",
   "metadata": {
    "scrolled": true
   },
   "outputs": [
    {
     "name": "stdout",
     "output_type": "stream",
     "text": [
      "Enter a string: hdusjfbsdjfbd jfdbc fudbfjd fjerFDFd df j fs34u9549thrGGHGBXF\n",
      " * * * * * * * * *\n",
      "Uppercase:\t 10\n",
      "Lowercase:\t 39\n",
      "Digits:\t\t 6\n",
      "Spaces:\t\t 6\n",
      " * * * * * * * * *"
     ]
    }
   ],
   "source": [
    "s = input(\"Enter a string: \")\n",
    "upper = lower = digit = space = 0\n",
    "for char in s:\n",
    "    if char.isupper():\n",
    "        upper += 1\n",
    "    elif char.islower():\n",
    "        lower += 1\n",
    "    elif char.isdigit():\n",
    "        digit += 1\n",
    "    elif char.isspace():\n",
    "        space += 1\n",
    "\n",
    "for i in range(1, 10):\n",
    "\tprint(\" *\", end =\"\")\n",
    "\n",
    "print(\"\\nUppercase:\\t\", upper)\n",
    "print(\"Lowercase:\\t\", lower)\n",
    "print(\"Digits:\\t\\t\", digit)\n",
    "print(\"Spaces:\\t\\t\", space)\n",
    "\n",
    "for i in range(1, 10):\n",
    "\tprint(\" *\", end =\"\")"
   ]
  },
  {
   "cell_type": "markdown",
   "id": "7d1b826d",
   "metadata": {},
   "source": [
    "3. Write a Python program that accepts a string from user. Your program should create and display a\n",
    "new string where the first and last characters have been exchanged. \n",
    "\n",
    "- For example if the user enters the string 'HELLO' then new string would be 'OELLH' \n"
   ]
  },
  {
   "cell_type": "code",
   "execution_count": 4,
   "id": "8c84e29e",
   "metadata": {},
   "outputs": [
    {
     "name": "stdout",
     "output_type": "stream",
     "text": [
      " Enter a string: gvyugyfg\n",
      "\n",
      " Result after swapping the first and last characters\n",
      "\n",
      " * * * * * *\n",
      "* gvyugyfg *\n",
      " * * * * * *"
     ]
    }
   ],
   "source": [
    "s = input(\" Enter a string: \")\n",
    "swap_s = s[-1] + s[1 : -1] + s[0]\n",
    "print(\"\\n Result after swapping the first and last characters\\n\")\n",
    "\n",
    "for i in range(1, int((len(s)/2)+3)):\n",
    "\tprint(\" *\", end =\"\")\n",
    "\n",
    "print(f\"\\n* {swap_s} *\")\n",
    "\n",
    "for i in range(1, int((len(s)/2)+3)):\n",
    "\tprint(\" *\", end =\"\")"
   ]
  },
  {
   "cell_type": "markdown",
   "id": "10699a7e",
   "metadata": {},
   "source": [
    "  4. Write a Python program that accepts a string from user. Your program should create a new string in\n",
    "reverse of first string and display it.\n",
    "- For example if the user enters the string 'EXAM' then new string would be 'MAXE'"
   ]
  },
  {
   "cell_type": "code",
   "execution_count": 6,
   "id": "00d1c5b2",
   "metadata": {},
   "outputs": [
    {
     "name": "stdout",
     "output_type": "stream",
     "text": [
      "Enter a string: uggtdtvhb hgv vv\n",
      "\n",
      "REVERSED STRING\n",
      "\n",
      " * * * * * * * * *\n",
      "* vv vgh bhvtdtggu *\n",
      " * * * * * * * * *"
     ]
    }
   ],
   "source": [
    "s = input(\"Enter a string: \")\n",
    "r = s[::-1]\n",
    "print(\"\\nREVERSED STRING\\n\")\n",
    "\n",
    "for i in range(1, 10):\n",
    "\tprint(\" *\", end =\"\")\n",
    "\n",
    "print(f\"\\n* {r} *\")\n",
    "\n",
    "for i in range(1, 10):\n",
    "\tprint(\" *\", end =\"\")"
   ]
  },
  {
   "cell_type": "markdown",
   "id": "5e5f6f32",
   "metadata": {},
   "source": [
    "5. Write a Python program that accepts a string from user. Your program should create a new string by\n",
    "shifting one position to left.\n",
    "- For example if the user enters the string 'examination 2021' then new string would be 'xamination\n",
    "2021e'"
   ]
  },
  {
   "cell_type": "code",
   "execution_count": 8,
   "id": "e1781463",
   "metadata": {},
   "outputs": [
    {
     "name": "stdout",
     "output_type": "stream",
     "text": [
      "Enter a string: Usama Hashmi\n",
      "SHIFTED STRING\n",
      " * * * * * * * *\n",
      "* sama HashmiU *\n",
      " * * * * * * * *"
     ]
    }
   ],
   "source": [
    "s = input(\"Enter a string: \")\n",
    "\n",
    "new_s = s[1:] + s[0]\n",
    "\n",
    "print(\"SHIFTED STRING\")\n",
    "\n",
    "for i in range(1, int(len(s)/2)+3):\n",
    "\tprint(\" *\", end =\"\")\n",
    "\n",
    "print(f\"\\n* {new_s} *\")\n",
    "\n",
    "for i in range(1, int(len(s)/2)+3):\n",
    "\tprint(\" *\", end =\"\")"
   ]
  },
  {
   "cell_type": "markdown",
   "id": "f0b30464",
   "metadata": {},
   "source": [
    " 6. Write a program that asks the user to input his name and print its initials. Assuming that the user\n",
    "always types first name, middle name and last name and does not include any unnecessary spaces.\n",
    "- For example, if the user enters Ajay Kumar Garg the program should display A. K. G.\n",
    "- Note:Don't use split() method"
   ]
  },
  {
   "cell_type": "code",
   "execution_count": 10,
   "id": "422f59d7",
   "metadata": {},
   "outputs": [
    {
     "name": "stdout",
     "output_type": "stream",
     "text": [
      "Enter your full name: Muhammad Usama Hashmi\n",
      "M. U. H. \n"
     ]
    }
   ],
   "source": [
    "n = input(\"Enter your full name: \")\n",
    "\n",
    "initials = n[0] + \". \"\n",
    "\n",
    "for i in range(len(n)):\n",
    "    if n[i] == ' ' :\n",
    "        initials += n[i + 1] + \". \"\n",
    "\n",
    "print(initials)"
   ]
  },
  {
   "cell_type": "markdown",
   "id": "7d1f36af",
   "metadata": {},
   "source": [
    "7. A palindrome is a string that reads the same backward as forward. For example, the words dad,\n",
    "madam and radar are all palindromes. Write a programs that determines whether the string is a\n",
    "palindrome. \n",
    "- Note: do not use reverse() method \n",
    "\n"
   ]
  },
  {
   "cell_type": "code",
   "execution_count": 12,
   "id": "cc1e6dd4",
   "metadata": {},
   "outputs": [
    {
     "name": "stdout",
     "output_type": "stream",
     "text": [
      "Enter a string: nasreen\n",
      "Your string 'nasreen' is Not Palindrome\n"
     ]
    }
   ],
   "source": [
    "s = input(\"Enter a string: \")\n",
    "\n",
    "if s == s[::-1]:\n",
    "    print(f\"Your string '{s}' is Palindrome\")\n",
    "else:\n",
    "    print(f\"Your string '{s}' is not Palindrome\")"
   ]
  },
  {
   "cell_type": "markdown",
   "id": "7608302e",
   "metadata": {},
   "source": [
    "8. Write a program that display following output:\n",
    "- SHIFT\n",
    "- HIFTS\n",
    "- IFTSH\n",
    "- FTSHI\n",
    "- TSHIF\n",
    "- SHIFT \n"
   ]
  },
  {
   "cell_type": "code",
   "execution_count": 13,
   "id": "1933ceab",
   "metadata": {},
   "outputs": [
    {
     "name": "stdout",
     "output_type": "stream",
     "text": [
      "SHIFT\n",
      "HIFTS\n",
      "IFTSH\n",
      "FTSHI\n",
      "TSHIF\n"
     ]
    }
   ],
   "source": [
    "word = \"SHIFT\"\n",
    "\n",
    "for i in range(len(word)):\n",
    "    output = word[i:] + word[:i] \n",
    "    print(output)"
   ]
  },
  {
   "cell_type": "markdown",
   "id": "ab711226",
   "metadata": {},
   "source": [
    " 9. Write a program in python that accepts a string to setup a passwords. Your entered password must\n",
    "meet the following requirements:\n",
    "- The password must be at least eight characters long.\n",
    "   - It must contain at least one uppercase letter.\n",
    "   - It must contain at least one lowercase letter.\n",
    "   - It must contain at least one numeric digit.\n",
    "   - Your program should should perform this validation. "
   ]
  },
  {
   "cell_type": "code",
   "execution_count": 19,
   "id": "d4ec9665",
   "metadata": {},
   "outputs": [
    {
     "name": "stdout",
     "output_type": "stream",
     "text": [
      "Enter your password: 1d2sds\n",
      "Invalid password! It must contain at least\n",
      "- 8 characters\n",
      "- One uppercase letter\n"
     ]
    }
   ],
   "source": [
    "password = input(\"Enter your password: \")\n",
    "\n",
    "has_upper = any(char.isupper() for char in password)\n",
    "has_lower = any(char.islower() for char in password)\n",
    "has_digit = any(char.isdigit() for char in password)\n",
    "is_long   = len(password) >= 8\n",
    "\n",
    "if has_upper and has_lower and has_digit and is_long:\n",
    "    print(\"Password is valid\")\n",
    "else:\n",
    "    print(\"Invalid password! It must contain at least\")\n",
    "    if not is_long:\n",
    "        print(\"- 8 characters\")\n",
    "    if not has_upper:\n",
    "        print(\"- One uppercase letter\")\n",
    "    if not has_lower:\n",
    "        print(\"- One lowercase letter\")\n",
    "    if not has_digit:\n",
    "        print(\"- One numeric digit\")\n"
   ]
  }
 ],
 "metadata": {
  "kernelspec": {
   "display_name": "Python 3 (ipykernel)",
   "language": "python",
   "name": "python3"
  },
  "language_info": {
   "codemirror_mode": {
    "name": "ipython",
    "version": 3
   },
   "file_extension": ".py",
   "mimetype": "text/x-python",
   "name": "python",
   "nbconvert_exporter": "python",
   "pygments_lexer": "ipython3",
   "version": "3.11.3"
  }
 },
 "nbformat": 4,
 "nbformat_minor": 5
}
