{
 "cells": [
  {
   "cell_type": "markdown",
   "metadata": {
    "id": "XLFr4w_7OFN7"
   },
   "source": [
    "1. Write a Python program to create a class representing a Circle. Include methods to calculate its area and perimeter."
   ]
  },
  {
   "cell_type": "markdown",
   "metadata": {},
   "source": [
    "#### Method 1"
   ]
  },
  {
   "cell_type": "code",
   "execution_count": 2,
   "metadata": {},
   "outputs": [],
   "source": [
    "class Circle:\n",
    "    \n",
    "    pi = 3.141592653589793238462643383279502884197\n",
    "    \n",
    "    def __init__(self, radius):\n",
    "        self.radius = radius\n",
    "        \n",
    "    def area(self):\n",
    "        \"\"\"\n",
    "        Defination: The region occupied by the circle in a two-dimensional plane\n",
    "        Formula: πr²\n",
    "        Return: The area of circle in float type\n",
    "        \"\"\"\n",
    "        area_of_circle = Circle.pi * (self.radius**2)\n",
    "        print(f\"The area of circle is: {area_of_circle}\")\n",
    "\n",
    "    def perimeter(self):\n",
    "        \"\"\"\n",
    "        Definition: The measurement of the boundary of the circle\n",
    "        Formula: 2πr\n",
    "        Return: Perimeter of circle in float type\n",
    "        \"\"\"\n",
    "        perimiter_of_circle = 2 * Circle.pi * self.radius\n",
    "        \n",
    "        print(f\"The perimeter of circle is: {perimiter_of_circle}\")\n"
   ]
  },
  {
   "cell_type": "code",
   "execution_count": 4,
   "metadata": {},
   "outputs": [
    {
     "name": "stdout",
     "output_type": "stream",
     "text": [
      "Enter the radius of the circle: 7\n",
      "The area of circle is: 153.93804002589985\n",
      "The perimeter of circle is: 43.982297150257104\n"
     ]
    }
   ],
   "source": [
    "r = float(input(\"Enter the radius of the circle: \"))\n",
    "my_circle = Circle(r)\n",
    "my_circle.area()\n",
    "my_circle.perimeter()"
   ]
  },
  {
   "cell_type": "markdown",
   "metadata": {},
   "source": [
    "#### Method 2"
   ]
  },
  {
   "cell_type": "code",
   "execution_count": 5,
   "metadata": {},
   "outputs": [],
   "source": [
    "import math \n",
    "\n",
    "class Circle:\n",
    "    \n",
    "    def __init__(self, radius):\n",
    "        self.radius = radius\n",
    "        \n",
    "    def area(self):\n",
    "        \"\"\"\n",
    "        Defination: The region occupied by the circle in a two-dimensional plane\n",
    "        Formula: πr²\n",
    "        Return: The area of circle in float type\n",
    "        \"\"\"\n",
    "        area_of_circle = math.pi * (self.radius**2)\n",
    "        \n",
    "        print(f\"The area of circle is: {area_of_circle}\")\n",
    "\n",
    "    def perimeter(self):\n",
    "        \"\"\"\n",
    "        Definition: The measurement of the boundary of the circle\n",
    "        Formula:  2πr\n",
    "        Return: Perimeter of circle in float type\n",
    "        \"\"\"\n",
    "        perimiter_of_circle = 2 * math.pi * self.radius\n",
    "        \n",
    "        print(f\"The perimeter of circle is: {perimiter_of_circle}\")\n"
   ]
  },
  {
   "cell_type": "code",
   "execution_count": 6,
   "metadata": {},
   "outputs": [
    {
     "name": "stdout",
     "output_type": "stream",
     "text": [
      "The area of circle is: 78.53981633974483\n",
      "The perimeter of circle is: 31.41592653589793\n"
     ]
    }
   ],
   "source": [
    "my_circle = Circle(5)\n",
    "my_circle.area()\n",
    "my_circle.perimeter()"
   ]
  },
  {
   "cell_type": "markdown",
   "metadata": {
    "id": "CBPk4mH4OTCO"
   },
   "source": [
    "2. Write a Python program to create a person class. Include attributes like name, country and date of birth. Implement a method to determine the person's age.\n"
   ]
  },
  {
   "cell_type": "code",
   "execution_count": 45,
   "metadata": {},
   "outputs": [],
   "source": [
    "class Person:\n",
    "    \n",
    "    def __init__(self, name, country,  date_of_birth):\n",
    "        self.name = name\n",
    "        self.country = country\n",
    "        self.date_of_birth = date_of_birth\n",
    "        \n",
    "    def age(self):\n",
    "        \"\"\"\n",
    "        Input: Current date: yyyy-mm-dd\n",
    "        Return: Your age in integer type\n",
    "        \"\"\"\n",
    "        current_date = input(\"Enter today's date: yyyy-mm-dd: \")\n",
    "        \n",
    "        if int(self.date_of_birth[5:7]) > int(current_date[5:7]):\n",
    "            your_age = int(current_date[:4]) - int(self.date_of_birth[:4]) - 1\n",
    "            print(f\"{self.name}! your age is {your_age}\")\n",
    "            \n",
    "        elif int(self.date_of_birth[5:7]) == int(current_date[5:7]):\n",
    "            \n",
    "            if int(self.date_of_birth[8:]) > int(current_date[8:]):\n",
    "                your_age = int(current_date[:4]) - int(self.date_of_birth[:4]) - 1\n",
    "                print(f\"{self.name}! your age is {your_age}\")\n",
    "                \n",
    "            elif int(self.date_of_birth[8:]) == int(current_date[8:]):\n",
    "                your_age = int(current_date[:4]) - int(self.date_of_birth[:4])\n",
    "                print(f\"{self.name}! your age is {your_age}\\nHAPPY BIRTHDAY {self.name}\")\n",
    "                \n",
    "            else:\n",
    "                your_age = int(current_date[:4]) - int(self.date_of_birth[:4])\n",
    "                print(f\"{self.name}! your age is {your_age}\")\n",
    "                \n",
    "        else:\n",
    "            your_age = int(current_date[:4]) - int(self.date_of_birth[:4])\n",
    "            print(f\"{self.name}! your age is {your_age}\")\n",
    "        "
   ]
  },
  {
   "cell_type": "code",
   "execution_count": 48,
   "metadata": {},
   "outputs": [
    {
     "name": "stdout",
     "output_type": "stream",
     "text": [
      "Enter today's date: yyyy-mm-dd: 2028-02-09\n",
      "Muhammad Osama Hasmi! your age is 33\n",
      "HAPPY BIRTHDAY Muhammad Osama Hasmi\n"
     ]
    }
   ],
   "source": [
    "Usama = Person(\"Muhammad Osama Hasmi\", \"Pakistan\", \"1995-02-09\")\n",
    "Usama.age()"
   ]
  },
  {
   "cell_type": "markdown",
   "metadata": {},
   "source": [
    "3. Write a Python program to create a calculator class. Include methods for basic arithmetic operations."
   ]
  },
  {
   "cell_type": "code",
   "execution_count": 210,
   "metadata": {},
   "outputs": [],
   "source": [
    "from functools import reduce\n",
    "\n",
    "class Calculator:\n",
    "    \n",
    "    def __init__(self):\n",
    "        \"\"\"\n",
    "        You can add, subtract, multiply, divide, power using this class\n",
    "        You can provide multiple values\n",
    "        Input Type: float or int\n",
    "        Return Type: float or int\n",
    "        \"\"\"\n",
    "        pass\n",
    "        \n",
    "    def add(self, *numbers):\n",
    "        \"\"\"\n",
    "        Input: Values like 1,2,3,4...\n",
    "        Input type: float or int\n",
    "        Priocess:  like (1+2+3+4+... )\n",
    "        Return: Sum of all values\n",
    "        Return type: float or int\n",
    "        \"\"\"\n",
    "        return sum(numbers)\n",
    "    \n",
    "    def subtract(self, *numbers):\n",
    "        \"\"\"\n",
    "        Input: Values like 1,2,3,4...\n",
    "        Input type: float or int\n",
    "        Process: like (1-2-3-4-... )\n",
    "        Return: subtract of all values\n",
    "        Return type: float or int\n",
    "        \"\"\"\n",
    "        return reduce(lambda x,y: x-y,  numbers)\n",
    "    \n",
    "    def multiplication(self, *numbers):\n",
    "        \"\"\"\n",
    "        Input: Values like 1,2,3,4...\n",
    "        Input type: float or int\n",
    "        Process: like (1*2*3*4*... )\n",
    "        Return: Multiplication of all values\n",
    "        Return type: float or int\n",
    "        \"\"\"\n",
    "        return reduce(lambda x,y: x*y,  numbers)\n",
    "    \n",
    "    def division(self, *numbers):\n",
    "        \"\"\"\n",
    "        Input: Values like 1,2,3,4...\n",
    "        Input type: float or int\n",
    "        Process: like ((((1/2)/3)/4)/... )\n",
    "        Return: Division of all values \n",
    "        Return type: float or int\n",
    "        \"\"\"\n",
    "        return reduce(lambda x,y: x/y,  numbers)\n",
    "    \n",
    "    def power(self, *numbers):\n",
    "        \"\"\"\n",
    "        Input: Values like 1,2,3,4...\n",
    "        Input type: float or int\n",
    "        Process: like (((1^2)^3)^4)^... )\n",
    "        Return: Power of all values \n",
    "        Return type: float or int\n",
    "        \"\"\"\n",
    "        return reduce(lambda x,y: x**y,  numbers) \n",
    "    \n",
    "    def remainder(self, *numbers):\n",
    "        \"\"\"\n",
    "        Input: Values like 1,2,3,4...\n",
    "        Input type: float or int\n",
    "        Process: like this --->  (((1%2)%3)%4)%... ) \n",
    "        Return: modulus of all values or remainder \n",
    "        Return type: float or int\n",
    "        \"\"\"\n",
    "        return reduce(lambda x,y: x%y,  numbers)\n",
    "    \n",
    "    def maximum(self, *numbers):\n",
    "        \"\"\"\n",
    "        Input: Values like 1,2,3,4...\n",
    "        Input type: float or int\n",
    "        Return: maximum value \n",
    "        Return type: float or int\n",
    "        \"\"\"\n",
    "        return max(map(lambda x: x,  numbers))\n",
    "    \n",
    "    def Maximum(self, numbers):\n",
    "        \"\"\"\n",
    "        Input: iterable like [1,2,3,4...] or range(beg, end, step) etc\n",
    "        Input type: list, tuple, range etc\n",
    "        Return: maximum value \n",
    "        Return type: float or int\n",
    "        \"\"\"\n",
    "        return max(numbers)\n",
    "        \n",
    "    def minimum(self, *numbers):\n",
    "        \"\"\"\n",
    "        Input: Values like 1,2,3,4...\n",
    "        Input type: float or int\n",
    "        Return: maximum value \n",
    "        Return type: float or int\n",
    "        \"\"\"\n",
    "        return min(map(lambda x: x,  numbers))\n",
    "    \n",
    "    def Minimum(self, numbers):\n",
    "        \"\"\"\n",
    "        Input: iterable like [1,2,3,4...] or range(beg, end, step) etc\n",
    "        Input type: list, tuple, range etc\n",
    "        Return: minimum value \n",
    "        Return type: float or int\n",
    "        \"\"\"\n",
    "        return min(numbers)\n",
    "    \n",
    "    def lowest_Values(self, data, end_value):\n",
    "        \"\"\"\n",
    "        Input: Provide 2 args\n",
    "        >>> 1st argument: List of tuples like [(key_1, Vaule_1), (key_2, Vaule_2), .... ]\n",
    "        >>> 2nd argument: Highest value or end value\n",
    "        Input type: (list, int)\n",
    "        Return: Dictionary of filtered Data or in the range of highest value\n",
    "        Return type: dict\n",
    "        \"\"\"\n",
    "        return dict(filter(lambda x: x[1] < end_value, data))\n",
    "    \n",
    "    def greatest_Values(self, data, beg_value):\n",
    "        \"\"\"\n",
    "        Input: Provide 2 args\n",
    "        >>> 1st argument: List of tuples like [(key_1, Vaule_1), (key_2, Vaule_2), .... ]\n",
    "        >>> 2nd argument: beginning value or lowest value\n",
    "        Input type: (list, int)\n",
    "        Return: Dictionary of filtered Data or provided above the beginning value\n",
    "        Return type: dict\n",
    "        \"\"\"\n",
    "        return dict(filter(lambda x: x[1] > beg_value, data))\n",
    "    \n",
    "    def mid_range_Values(self, data, beg_value, end_value):\n",
    "        \"\"\"\n",
    "        Input: Provide 3 args\n",
    "        >>> 1st argument: List of tuples like [(key_1, Vaule_1), (key_2, Vaule_2), .... ]\n",
    "        >>> 2nd argument: beginning value or lowest value\n",
    "        >>> 3rd argument: end value or highest value\n",
    "        Input type: (list, int, int)\n",
    "        Return: Dictionary of filtered Data or in the range between beginning and ending value\n",
    "        Return type: dict\n",
    "        \"\"\"\n",
    "        return dict(filter(lambda x: x[1] > beg_value and x[1] < end_value, data))\n",
    "    \n",
    "    def filter_sort_values(self, data, beg_value, end_value, rev):\n",
    "        \"\"\"\n",
    "        Input: Provide 4 args\n",
    "        >>> 1st argument: List of tuples like [(key_1, Vaule_1), (key_2, Vaule_2), .... ]\n",
    "        >>> 2nd argument: beginning value or lowest value\n",
    "        >>> 3rd argument: end value or highest value\n",
    "        >>> 4th argument: Reverse = True or False (by Default Lowest to highest)\n",
    "        Input type: (list, int, int, bool)\n",
    "        Return: Dictionary of filtered Data in the range between beginning and ending value in sorted order\n",
    "        Return type: dict\n",
    "        \"\"\"\n",
    "        return dict(sorted((dict(filter(lambda x: x[1] > beg_value and x[1] < end_value, data))).items(), key = lambda x: x[1], reverse = rev))\n",
    "    "
   ]
  },
  {
   "cell_type": "code",
   "execution_count": 203,
   "metadata": {},
   "outputs": [],
   "source": [
    "casio = Calculator()"
   ]
  },
  {
   "cell_type": "code",
   "execution_count": 205,
   "metadata": {},
   "outputs": [],
   "source": [
    "casio.name= 5"
   ]
  },
  {
   "cell_type": "code",
   "execution_count": null,
   "metadata": {},
   "outputs": [],
   "source": []
  },
  {
   "cell_type": "code",
   "execution_count": 136,
   "metadata": {},
   "outputs": [
    {
     "data": {
      "text/plain": [
       "75"
      ]
     },
     "execution_count": 136,
     "metadata": {},
     "output_type": "execute_result"
    }
   ],
   "source": [
    "casio.add(1,5,8,9,52)"
   ]
  },
  {
   "cell_type": "code",
   "execution_count": 137,
   "metadata": {},
   "outputs": [
    {
     "data": {
      "text/plain": [
       "1.0"
      ]
     },
     "execution_count": 137,
     "metadata": {},
     "output_type": "execute_result"
    }
   ],
   "source": [
    "casio.division(10,2,5)"
   ]
  },
  {
   "cell_type": "code",
   "execution_count": 138,
   "metadata": {},
   "outputs": [
    {
     "data": {
      "text/plain": [
       "4800"
      ]
     },
     "execution_count": 138,
     "metadata": {},
     "output_type": "execute_result"
    }
   ],
   "source": [
    "casio.multiplication(5,8,2,4,3,5)"
   ]
  },
  {
   "cell_type": "code",
   "execution_count": 139,
   "metadata": {},
   "outputs": [
    {
     "data": {
      "text/plain": [
       "8"
      ]
     },
     "execution_count": 139,
     "metadata": {},
     "output_type": "execute_result"
    }
   ],
   "source": [
    "casio.power(2,3)"
   ]
  },
  {
   "cell_type": "code",
   "execution_count": 140,
   "metadata": {},
   "outputs": [
    {
     "data": {
      "text/plain": [
       "2"
      ]
     },
     "execution_count": 140,
     "metadata": {},
     "output_type": "execute_result"
    }
   ],
   "source": [
    "casio.remainder(8,3)"
   ]
  },
  {
   "cell_type": "code",
   "execution_count": 141,
   "metadata": {},
   "outputs": [
    {
     "data": {
      "text/plain": [
       "-17"
      ]
     },
     "execution_count": 141,
     "metadata": {},
     "output_type": "execute_result"
    }
   ],
   "source": [
    "\n",
    "casio.subtract(1,5,5,8)"
   ]
  },
  {
   "cell_type": "code",
   "execution_count": 142,
   "metadata": {},
   "outputs": [
    {
     "data": {
      "text/plain": [
       "154"
      ]
     },
     "execution_count": 142,
     "metadata": {},
     "output_type": "execute_result"
    }
   ],
   "source": [
    "casio.Maximum({2,82,15,154,5})"
   ]
  },
  {
   "cell_type": "code",
   "execution_count": 143,
   "metadata": {},
   "outputs": [
    {
     "data": {
      "text/plain": [
       "4"
      ]
     },
     "execution_count": 143,
     "metadata": {},
     "output_type": "execute_result"
    }
   ],
   "source": [
    "casio.maximum(1,2,3,4)"
   ]
  },
  {
   "cell_type": "code",
   "execution_count": 144,
   "metadata": {},
   "outputs": [
    {
     "data": {
      "text/plain": [
       "15"
      ]
     },
     "execution_count": 144,
     "metadata": {},
     "output_type": "execute_result"
    }
   ],
   "source": [
    "casio.Minimum([5,8,15,14])"
   ]
  },
  {
   "cell_type": "code",
   "execution_count": 206,
   "metadata": {},
   "outputs": [
    {
     "data": {
      "text/plain": [
       "{'Areesha': 49, 'Ammar': 24}"
      ]
     },
     "execution_count": 206,
     "metadata": {},
     "output_type": "execute_result"
    }
   ],
   "source": [
    "casio.lowest_Values([(\"Usama\", 98), (\"Areesha\", 49),(\"Umair\", 87), (\"Arbaz\", 82),(\"Sir Qasim\", 90), (\"Ammar\", 24)], 50)"
   ]
  },
  {
   "cell_type": "code",
   "execution_count": 207,
   "metadata": {},
   "outputs": [
    {
     "data": {
      "text/plain": [
       "{'Usama': 98, 'Umair': 87, 'Arbaz': 82, 'Sir Qasim': 90}"
      ]
     },
     "execution_count": 207,
     "metadata": {},
     "output_type": "execute_result"
    }
   ],
   "source": [
    "casio.greatest_Values([(\"Usama\", 98), (\"Areesha\", 49),(\"Umair\", 87), (\"Arbaz\", 82),(\"Sir Qasim\", 90), (\"Ammar\", 24)], 50)"
   ]
  },
  {
   "cell_type": "code",
   "execution_count": 208,
   "metadata": {},
   "outputs": [
    {
     "data": {
      "text/plain": [
       "{'Usama': 98, 'Areesha': 49, 'Umair': 87, 'Arbaz': 82, 'Sir Qasim': 90}"
      ]
     },
     "execution_count": 208,
     "metadata": {},
     "output_type": "execute_result"
    }
   ],
   "source": [
    "casio.mid_range_Values([(\"Usama\", 98), (\"Areesha\", 49),(\"Umair\", 87), (\"Arbaz\", 82),(\"Sir Qasim\", 90), (\"Ammar\", 24)], 40, 100)"
   ]
  },
  {
   "cell_type": "code",
   "execution_count": 209,
   "metadata": {},
   "outputs": [
    {
     "data": {
      "text/plain": [
       "{'Usama': 98, 'Sir Qasim': 90, 'Umair': 87, 'Arbaz': 82, 'Areesha': 49}"
      ]
     },
     "execution_count": 209,
     "metadata": {},
     "output_type": "execute_result"
    }
   ],
   "source": [
    "casio.filter_sort_values([(\"Usama\", 98), (\"Areesha\", 49),(\"Umair\", 87), (\"Arbaz\", 82),(\"Sir Qasim\", 90), (\"Ammar\", 24)], 40, 100, True)"
   ]
  },
  {
   "cell_type": "code",
   "execution_count": null,
   "metadata": {},
   "outputs": [],
   "source": []
  }
 ],
 "metadata": {
  "colab": {
   "provenance": []
  },
  "kernelspec": {
   "display_name": "Python 3 (ipykernel)",
   "language": "python",
   "name": "python3"
  },
  "language_info": {
   "codemirror_mode": {
    "name": "ipython",
    "version": 3
   },
   "file_extension": ".py",
   "mimetype": "text/x-python",
   "name": "python",
   "nbconvert_exporter": "python",
   "pygments_lexer": "ipython3",
   "version": "3.11.3"
  }
 },
 "nbformat": 4,
 "nbformat_minor": 1
}
