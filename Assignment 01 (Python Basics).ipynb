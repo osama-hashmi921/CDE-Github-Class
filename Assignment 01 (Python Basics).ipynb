{
 "cells": [
  {
   "cell_type": "markdown",
   "metadata": {},
   "source": [
    "# Python Basics (Variables)\n",
    "- Name = Muhammad Osama Hashmi"
   ]
  },
  {
   "cell_type": "markdown",
   "metadata": {},
   "source": [
    "1. Print Your Name with your Father name and Date of birth using suitable escape sequence charactor"
   ]
  },
  {
   "cell_type": "code",
   "execution_count": 43,
   "metadata": {},
   "outputs": [
    {
     "name": "stdout",
     "output_type": "stream",
     "text": [
      "Name:\tMuhammad Osama Hashmi\n",
      "Father's Name:\tShaukat Ali Hashmi\n",
      "Date of Birth:\t08-September-2000\n"
     ]
    }
   ],
   "source": [
    "\n",
    "print(\"Name:\\tMuhammad Osama Hashmi\")\n",
    "print(\"Father's Name:\\tShaukat Ali Hashmi\")\n",
    "print(\"Date of Birth:\\t08-September-2000\")\n"
   ]
  },
  {
   "cell_type": "markdown",
   "metadata": {},
   "source": [
    "2. Write your small bio using variables and print it using print function"
   ]
  },
  {
   "cell_type": "code",
   "execution_count": 44,
   "metadata": {},
   "outputs": [
    {
     "name": "stdout",
     "output_type": "stream",
     "text": [
      "I am Muhammad Osama Hashmi,a Chemical Engineer currently working at SOORTY Textile, an aspiring Software Engineer with a growing focus on Artificial Intelligence and Cloud Data Engineering. I aim to build innovative solutions by combining cloud technologies, data engineering, and AI. My long-term goal is to become a versatile professional who can contribute to the future of AI-driven software development.\n"
     ]
    }
   ],
   "source": [
    "name = \"Muhammad Osama Hashmi\"\n",
    "field = \"Chemical Engineer\"\n",
    "job_Venue = \"SOORTY Textile\"\n",
    "interest = \"Software Engineer\"\n",
    "focus1, focus2 = \"Artificial Intelligence\", \"Cloud Data Engineering\"\n",
    "goal = \"versatile professional\"\n",
    "\n",
    "print(f\"I am {name},a {field} currently working at {job_Venue}, an aspiring {interest} with a growing focus on {focus1} and {focus2}. I aim to build innovative solutions by combining cloud technologies, data engineering, and AI. My long-term goal is to become a {goal} who can contribute to the future of AI-driven software development.\")"
   ]
  },
  {
   "cell_type": "markdown",
   "metadata": {},
   "source": [
    "3. Write a program in which use all the operators we can use in Python"
   ]
  },
  {
   "cell_type": "code",
   "execution_count": 45,
   "metadata": {},
   "outputs": [
    {
     "name": "stdout",
     "output_type": "stream",
     "text": [
      "Addition: 13\n",
      "Subtraction: 7\n",
      "Multiplication: 30\n",
      "Division: 3.3333333333333335\n",
      "Floor Division: 3\n",
      "Modulus: 1\n",
      "Exponentiation: 1000\n",
      "x += 3: 8\n",
      "x -= 2: 6\n",
      "x *= 4: 24\n",
      "x /= 3: 8.0\n",
      "x %= 3: 2.0\n",
      "x **= 2: 4.0\n",
      "x //= 2: 2.0\n",
      "Is 5 equal to 3? False\n",
      "Is 5 not equal to 3? True\n",
      "Is 5 greater than 3? True\n",
      "Is 5 less than 3? False\n",
      "Is 5 >= 5? True\n",
      "Is 5 <= 3? False\n",
      "a and b: False\n",
      "a or b: True\n",
      "not a: False\n",
      "x is y: True\n",
      "x is z: False\n",
      "x == z: True\n",
      "Is 3 in nums? True\n",
      "Is 10 not in nums? True\n",
      "Bitwise AND: 2\n",
      "Bitwise OR: 11\n",
      "Bitwise XOR: 9\n",
      "Bitwise NOT: -11\n",
      "Left Shift: 40\n",
      "Right Shift: 2\n",
      "Full Name: Misbah Osama\n",
      "Repetition: 125125125\n",
      "'Python' in text: True\n",
      "'java' in text: False\n",
      "'cool' not in text: True\n"
     ]
    }
   ],
   "source": [
    "# --------------------------\n",
    "#  Arithmetic Operators\n",
    "# --------------------------\n",
    "\n",
    "# Order: PEMDAS\n",
    "\n",
    "a = 10\n",
    "b = 3\n",
    "\n",
    "print(\"Addition:\", a + b)        \n",
    "print(\"Subtraction:\", a - b)      \n",
    "print(\"Multiplication:\", a * b)   \n",
    "print(\"Division:\", a / b)         \n",
    "print(\"Floor Division:\", a // b) \n",
    "print(\"Modulus:\", a % b)       \n",
    "print(\"Exponentiation:\", a ** b)  \n",
    "\n",
    "# --------------------------\n",
    "#  Assignment Operators\n",
    "# --------------------------\n",
    "\n",
    "x = 5\n",
    "x += 3   \n",
    "print(\"x += 3:\", x)\n",
    "\n",
    "x -= 2  \n",
    "print(\"x -= 2:\", x)\n",
    "\n",
    "x *= 4   \n",
    "print(\"x *= 4:\", x)\n",
    "\n",
    "x /= 3  \n",
    "print(\"x /= 3:\", x)\n",
    "\n",
    "x %= 3  \n",
    "print(\"x %= 3:\", x)\n",
    "\n",
    "x **= 2  \n",
    "print(\"x **= 2:\", x)\n",
    "\n",
    "x //= 2  \n",
    "print(\"x //= 2:\", x)\n",
    "\n",
    "# --------------------------\n",
    "#  Comparison Operators\n",
    "# --------------------------\n",
    "\n",
    "print(\"Is 5 equal to 3?\", 5 == 3)     \n",
    "print(\"Is 5 not equal to 3?\", 5 != 3) \n",
    "print(\"Is 5 greater than 3?\", 5 > 3)   \n",
    "print(\"Is 5 less than 3?\", 5 < 3)      \n",
    "print(\"Is 5 >= 5?\", 5 >= 5)            \n",
    "print(\"Is 5 <= 3?\", 5 <= 3)           \n",
    "# --------------------------\n",
    "#  Logical Operators\n",
    "# --------------------------\n",
    "\n",
    "a = True\n",
    "b = False\n",
    "\n",
    "print(\"a and b:\", a and b) \n",
    "print(\"a or b:\", a or b)    \n",
    "print(\"not a:\", not a)      \n",
    "\n",
    "# --------------------------\n",
    "#  Identity Operators\n",
    "# --------------------------\n",
    "\n",
    "x = [1, 2, 3]\n",
    "y = x\n",
    "z = [1, 2, 3]\n",
    "\n",
    "print(\"x is y:\", x is y)      \n",
    "print(\"x is z:\", x is z)       \n",
    "print(\"x == z:\", x == z)      \n",
    "\n",
    "# --------------------------\n",
    "#  Membership Operators\n",
    "# --------------------------\n",
    "\n",
    "nums = [1, 2, 3, 4, 5]\n",
    "\n",
    "print(\"Is 3 in nums?\", 3 in nums)     \n",
    "print(\"Is 10 not in nums?\", 10 not in nums)  \n",
    "\n",
    "# --------------------------\n",
    "#  Bitwise Operators\n",
    "# --------------------------\n",
    "\n",
    "a = 10\n",
    "b = 3\n",
    "\n",
    "print(\"Bitwise AND:\", a & b) \n",
    "print(\"Bitwise OR:\", a | b)  \n",
    "print(\"Bitwise XOR:\", a ^ b)  \n",
    "print(\"Bitwise NOT:\", ~a)   \n",
    "print(\"Left Shift:\", a << 2)  \n",
    "print(\"Right Shift:\", a >> 2) \n",
    "\n",
    "\n",
    "# --------------------------\n",
    "#  String Operators\n",
    "# --------------------------\n",
    "\n",
    "# Concatenation (+)\n",
    "first_name = \"Misbah\"\n",
    "last_name = \"Osama\"\n",
    "full_name = first_name + \" \" + last_name\n",
    "print(\"Full Name:\", full_name)  \n",
    "\n",
    "# Repetition (*)\n",
    "num = \"125\"\n",
    "print(\"Repetition:\", num * 3)  \n",
    "\n",
    "# Membership Operators (in / not in)\n",
    "text = \"Python is awesome\"\n",
    "\n",
    "print(\"'Python' in text:\", 'Python' in text)      \n",
    "print(\"'java' in text:\", 'java' in text)           \n",
    "print(\"'cool' not in text:\", 'cool' not in text)  "
   ]
  },
  {
   "cell_type": "markdown",
   "metadata": {},
   "source": [
    "4. Completes the following steps of small task:\n",
    "    - Mention Marks of English , Islamiat and Maths out of 100 in 3 different variables\n",
    "    - Mention Variable of Total Marks and assign 300 to it\n",
    "    - Calculate Percentage"
   ]
  },
  {
   "cell_type": "code",
   "execution_count": 46,
   "metadata": {
    "scrolled": true
   },
   "outputs": [
    {
     "name": "stdout",
     "output_type": "stream",
     "text": [
      "89.0\n"
     ]
    }
   ],
   "source": [
    "english, islamiat, math = 84, 87, 96\n",
    "\n",
    "total_marks = 300\n",
    "\n",
    "percentage = ((english + islamiat + math)/total_marks)*100\n",
    "\n",
    "print(percentage)"
   ]
  }
 ],
 "metadata": {
  "kernelspec": {
   "display_name": "Python 3 (ipykernel)",
   "language": "python",
   "name": "python3"
  },
  "language_info": {
   "codemirror_mode": {
    "name": "ipython",
    "version": 3
   },
   "file_extension": ".py",
   "mimetype": "text/x-python",
   "name": "python",
   "nbconvert_exporter": "python",
   "pygments_lexer": "ipython3",
   "version": "3.11.3"
  }
 },
 "nbformat": 4,
 "nbformat_minor": 2
}
