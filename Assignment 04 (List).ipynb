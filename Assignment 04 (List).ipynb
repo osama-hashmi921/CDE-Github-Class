{
 "cells": [
  {
   "cell_type": "markdown",
   "id": "25b28d1b",
   "metadata": {},
   "source": [
    "# List\n",
    "- Name = Muhammad Osama Hashmi"
   ]
  },
  {
   "cell_type": "markdown",
   "id": "b935053c",
   "metadata": {},
   "source": [
    "1. Write a program that accepts a list from user and print the alternate element of list. \n"
   ]
  },
  {
   "cell_type": "code",
   "execution_count": 1,
   "id": "92c41374",
   "metadata": {},
   "outputs": [
    {
     "name": "stdout",
     "output_type": "stream",
     "text": [
      "Enter numbers separated by space: 5 4 5 \n",
      "Alternate elements: [5, 5]\n"
     ]
    }
   ],
   "source": [
    "lst = list(map(int, input(\"Enter numbers separated by space: \").split()))\n",
    "print(\"Alternate elements:\", lst[::2])"
   ]
  },
  {
   "cell_type": "markdown",
   "id": "6e3a12cc",
   "metadata": {},
   "source": [
    "2. Write a program that accepts a list from user. Your program should reverse the content of list and\n",
    "display it. \n",
    "- Do not use reverse() method. \n"
   ]
  },
  {
   "cell_type": "code",
   "execution_count": 2,
   "id": "a44c0044",
   "metadata": {},
   "outputs": [
    {
     "name": "stdout",
     "output_type": "stream",
     "text": [
      "Enter numbers separated by space: 5 5 5 \n",
      "Reversed List: [5, 5, 5]\n"
     ]
    }
   ],
   "source": [
    "l = list(map(int, input(\"Enter numbers separated by space: \").split()))\n",
    "r = []\n",
    "for i in range(len(l)-1, -1, -1):\n",
    "    r.append(l[i])\n",
    "print(\"Reversed List:\", r)\n"
   ]
  },
  {
   "cell_type": "markdown",
   "id": "52afe633",
   "metadata": {},
   "source": [
    "3. Find and display the largest number of a list without using built-in function max(). Your program\n",
    "should ask the user to input values in list from keyboard. \n"
   ]
  },
  {
   "cell_type": "code",
   "execution_count": 3,
   "id": "d1e7a8be",
   "metadata": {},
   "outputs": [
    {
     "name": "stdout",
     "output_type": "stream",
     "text": [
      "Enter numbers separated by space: 115 6 5 \n",
      "Largest number: 115\n"
     ]
    }
   ],
   "source": [
    "l = list(map(int, input(\"Enter numbers separated by space: \").split()))\n",
    "largest = l[0]\n",
    "for n in l:\n",
    "    if n > largest:\n",
    "        largest = n\n",
    "print(\"Largest number:\", largest)\n"
   ]
  },
  {
   "cell_type": "markdown",
   "id": "234205e2",
   "metadata": {},
   "source": [
    " 4. Write a program that rotates the element of a list so that the element at the first index moves to the\n",
    "second index, the element in the second index moves to the third index, etc., and the element in the last\n",
    "index moves to the first index."
   ]
  },
  {
   "cell_type": "code",
   "execution_count": 1,
   "id": "fb4d54b9",
   "metadata": {},
   "outputs": [
    {
     "name": "stdout",
     "output_type": "stream",
     "text": [
      "Enter numbers separated by space: 5 5 5 323 \n",
      "Rotated List: [323, 5, 5, 5]\n"
     ]
    }
   ],
   "source": [
    "l = list(map(int, input(\"Enter numbers separated by space: \").split()))\n",
    "rot = [l[-1]] + l[:-1]\n",
    "print(\"Rotated List:\", rot)\n"
   ]
  },
  {
   "cell_type": "markdown",
   "id": "2d7a345a",
   "metadata": {},
   "source": [
    "5. Write a program that input a string and ask user to delete a given word from a string. \n"
   ]
  },
  {
   "cell_type": "code",
   "execution_count": 3,
   "id": "2ec11703",
   "metadata": {},
   "outputs": [
    {
     "name": "stdout",
     "output_type": "stream",
     "text": [
      "Enter a string: gf4g5h1g5h1\n",
      "Enter word to delete: 5\n",
      "Updated string: gf4gh1gh1\n"
     ]
    }
   ],
   "source": [
    "s = input(\"Enter a string: \")\n",
    "word = input(\"Enter word to delete: \")\n",
    "new_s = s.replace(word, \"\")\n",
    "print(\"Updated string:\", new_s)\n"
   ]
  },
  {
   "cell_type": "markdown",
   "id": "f806fce1",
   "metadata": {},
   "source": [
    "6. Write a program that reads a string from the user containing a date in the form mm/dd/yyyy. It\n",
    "should print the date in the form March 12, 2021. \n"
   ]
  },
  {
   "cell_type": "code",
   "execution_count": 4,
   "id": "17583518",
   "metadata": {},
   "outputs": [
    {
     "name": "stdout",
     "output_type": "stream",
     "text": [
      "Enter date (mm/dd/yyyy): 08/23/2025\n",
      "August 23, 2025\n"
     ]
    }
   ],
   "source": [
    "date = input(\"Enter date (mm/dd/yyyy): \")\n",
    "months = [\"January\", \"February\", \"March\", \"April\", \"May\", \"June\",\n",
    "          \"July\", \"August\", \"September\", \"October\", \"November\", \"December\"]\n",
    "\n",
    "mm, dd, yyyy = map(int, date.split(\"/\"))\n",
    "print(f\"{months[mm-1]} {dd}, {yyyy}\")\n"
   ]
  },
  {
   "cell_type": "markdown",
   "id": "dbe4a456",
   "metadata": {},
   "source": [
    " 7. Write a program with a function that accepts a string from keyboard and create a new string after\n",
    "converting character of each word capitalized. For instance, if the sentence is \"stop and smell the roses.\"\n",
    "the output should be \"Stop And Smell The Roses\" \n"
   ]
  },
  {
   "cell_type": "code",
   "execution_count": 6,
   "id": "bfc841e7",
   "metadata": {},
   "outputs": [
    {
     "name": "stdout",
     "output_type": "stream",
     "text": [
      "Enter a string: hg15h15h\n",
      "Capitalized: Hg15h15h\n"
     ]
    }
   ],
   "source": [
    "def capitalize_words(s):\n",
    "    result = \"\"\n",
    "    capitalize = True\n",
    "    for char in s:\n",
    "        if capitalize and char != \" \":\n",
    "            result += char.upper()\n",
    "            capitalize = False\n",
    "        else:\n",
    "            result += char\n",
    "        if char == \" \":\n",
    "            capitalize = True\n",
    "    return result\n",
    "\n",
    "s = input(\"Enter a string: \")\n",
    "print(\"Capitalized:\", capitalize_words(s))\n"
   ]
  },
  {
   "attachments": {
    "image.png": {
     "image/png": "[encoded data removed]"
    }
   },
   "cell_type": "markdown",
   "id": "474cbaba",
   "metadata": {},
   "source": [
    "8. Find the sum of each row of matrix of size m x n. For example for the following matrix output will be\n",
    "like this : \n",
    "![image.png](attachment:image.png)\n",
    "- Sum of row 1 = 32\n",
    "- Sum of row 2 = 31\n",
    "- Sum of row 3 = 63 "
   ]
  },
  {
   "cell_type": "code",
   "execution_count": 7,
   "id": "bf05d3ed",
   "metadata": {},
   "outputs": [
    {
     "name": "stdout",
     "output_type": "stream",
     "text": [
      "Sum of row 1 = 32\n",
      "Sum of row 2 = 31\n",
      "Sum of row 3 = 63\n"
     ]
    }
   ],
   "source": [
    "matrix = [\n",
    "    [2, 11, 7, 12],\n",
    "    [5, 2, 9, 15],\n",
    "    [8, 3, 10, 42]\n",
    "]\n",
    "\n",
    "for i in range(len(matrix)):\n",
    "    row_sum = sum(matrix[i])\n",
    "    print(f\"Sum of row {i+1} = {row_sum}\")\n"
   ]
  },
  {
   "cell_type": "markdown",
   "id": "f2fd0e0a",
   "metadata": {},
   "source": [
    "9. Write a program to add two matrices of size n x m. "
   ]
  },
  {
   "cell_type": "code",
   "execution_count": 8,
   "id": "107b14e1",
   "metadata": {},
   "outputs": [
    {
     "name": "stdout",
     "output_type": "stream",
     "text": [
      "Matrix Addition Result:\n",
      "[6, 8]\n",
      "[10, 12]\n"
     ]
    }
   ],
   "source": [
    "A = [[1, 2], [3, 4]]\n",
    "B = [[5, 6], [7, 8]]\n",
    "\n",
    "result = []\n",
    "for i in range(len(A)):\n",
    "    row = []\n",
    "    for j in range(len(A[0])):\n",
    "        row.append(A[i][j] + B[i][j])\n",
    "    result.append(row)\n",
    "\n",
    "print(\"Matrix Addition Result:\")\n",
    "for row in result:\n",
    "    print(row)\n"
   ]
  },
  {
   "cell_type": "markdown",
   "id": "8de3e7cd",
   "metadata": {},
   "source": [
    "10. Write a program to multiply two matrices "
   ]
  },
  {
   "cell_type": "code",
   "execution_count": 9,
   "id": "58d550ac",
   "metadata": {},
   "outputs": [
    {
     "name": "stdout",
     "output_type": "stream",
     "text": [
      "Matrix Multiplication Result:\n",
      "[4, 4]\n",
      "[10, 8]\n"
     ]
    }
   ],
   "source": [
    "A = [[1, 2], [3, 4]]\n",
    "B = [[2, 0], [1, 2]]\n",
    "\n",
    "result = [[0, 0], [0, 0]]\n",
    "\n",
    "for i in range(len(A)):\n",
    "    for j in range(len(B[0])):\n",
    "        for k in range(len(B)):\n",
    "            result[i][j] += A[i][k] * B[k][j]\n",
    "\n",
    "print(\"Matrix Multiplication Result:\")\n",
    "for row in result:\n",
    "    print(row)\n"
   ]
  },
  {
   "cell_type": "code",
   "execution_count": null,
   "id": "4809a560",
   "metadata": {},
   "outputs": [],
   "source": []
  }
 ],
 "metadata": {
  "kernelspec": {
   "display_name": "Python 3 (ipykernel)",
   "language": "python",
   "name": "python3"
  },
  "language_info": {
   "codemirror_mode": {
    "name": "ipython",
    "version": 3
   },
   "file_extension": ".py",
   "mimetype": "text/x-python",
   "name": "python",
   "nbconvert_exporter": "python",
   "pygments_lexer": "ipython3",
   "version": "3.11.3"
  }
 },
 "nbformat": 4,
 "nbformat_minor": 5
}
